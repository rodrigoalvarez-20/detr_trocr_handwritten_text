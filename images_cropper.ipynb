{
 "cells": [
  {
   "cell_type": "markdown",
   "metadata": {},
   "source": [
    "## Image Cropper Lab to build the Dataset for TROCR"
   ]
  },
  {
   "cell_type": "markdown",
   "metadata": {},
   "source": [
    "This lab takes the *metadata.json file generated with `xml_workbench.ipynb` and the images from the converted PDF"
   ]
  },
  {
   "cell_type": "code",
   "execution_count": null,
   "metadata": {},
   "outputs": [],
   "source": [
    "import json\n",
    "from PIL import Image\n",
    "import os\n",
    "from uuid import uuid4\n",
    "from PIL import Image\n",
    "from tqdm.auto import tqdm"
   ]
  },
  {
   "cell_type": "code",
   "execution_count": null,
   "metadata": {},
   "outputs": [],
   "source": [
    "dataset_path = \"<path_to_images_to_crop>\"\n",
    "metadata_file = \"cursive_hand_metadata.json\"\n",
    "export_path = \"<path_to_export_cropped_images>\"\n",
    "export_metadata = \"<path_to_save_the_info_dict>/metadata.json\""
   ]
  },
  {
   "cell_type": "code",
   "execution_count": null,
   "metadata": {},
   "outputs": [],
   "source": [
    "os.makedirs(export_path, exist_ok=True)"
   ]
  },
  {
   "cell_type": "code",
   "execution_count": null,
   "metadata": {},
   "outputs": [],
   "source": [
    "metadata_dict = json.load(open(metadata_file, \"r\"))"
   ]
  },
  {
   "cell_type": "code",
   "execution_count": null,
   "metadata": {},
   "outputs": [],
   "source": [
    "emetadata = []\n",
    "for element in tqdm(metadata_dict):\n",
    "    mimage = Image.open(os.path.join(dataset_path, element[\"image\"])).convert(\"RGB\")\n",
    "    w, h = element[\"width\"], element[\"height\"]\n",
    "    for box in element[\"boxes\"]:\n",
    "        xmin, xmax, ymin, ymax = box[\"xmin\"], box[\"xmax\"], box[\"ymin\"], box[\"ymax\"]\n",
    "        label = box[\"label\"]\n",
    "        image_uuid = uuid4().hex + \".jpeg\"\n",
    "        cropped_image = mimage.crop((xmin, ymin, xmax, ymax))\n",
    "        cropped_image.save(os.path.join(export_path, image_uuid))\n",
    "        emetadata.append({\n",
    "            \"label\": label,\n",
    "            \"image\": os.path.join(export_path, image_uuid)\n",
    "        })"
   ]
  },
  {
   "cell_type": "code",
   "execution_count": null,
   "metadata": {},
   "outputs": [],
   "source": [
    "json.dump(emetadata, open(export_metadata, \"w\"), indent=2)"
   ]
  }
 ],
 "metadata": {
  "kernelspec": {
   "display_name": "dev-kernel",
   "language": "python",
   "name": "dev-kernel"
  },
  "language_info": {
   "codemirror_mode": {
    "name": "ipython",
    "version": 3
   },
   "file_extension": ".py",
   "mimetype": "text/x-python",
   "name": "python",
   "nbconvert_exporter": "python",
   "pygments_lexer": "ipython3",
   "version": "3.11.2"
  }
 },
 "nbformat": 4,
 "nbformat_minor": 2
}
