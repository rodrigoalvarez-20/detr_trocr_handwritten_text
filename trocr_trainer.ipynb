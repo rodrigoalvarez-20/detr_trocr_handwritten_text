{
 "cells": [
  {
   "cell_type": "markdown",
   "metadata": {},
   "source": [
    "## TROCR Pytorch Finetuning with CUSTOM DATASET"
   ]
  },
  {
   "cell_type": "markdown",
   "metadata": {},
   "source": [
    "This jupyter notebook was used for finetuning Microsoft/trocr-large-stage1 base model (I dont use the Handwritten finetuned version to avoid language mistakes)\n",
    "\n",
    "I used the same dataset of the DETR project, but, insted of downloading in COCO JSON format, I downloaded in XML format and parse it with \"xml_workbench.ipynb\" lab\n",
    "\n",
    "The difference with the DETR dataset, this dataset contains all the original labels (~790 labels).\n",
    "\n",
    "The structure of the dataset is: \"image_path\" and \"label\" (in text)\n",
    "\n",
    "The reason for making the train cycle \"manually\" was for problems with GPU memory (Out of memory), to solve it, I implemented the cycle from scratch based on the CausalLLM Finetuning (SFTTrainer)\n",
    "\n",
    "Basically, I used the \"Right Shift\" technique.\n",
    "\n",
    "The input for the Encoder are the pixel values, the input for the Decoder is the target text including BOS token and excluding the EOS token, with padding.\n",
    "\n",
    "To ilustrate: \n",
    "\n",
    "* `This is the text`\n",
    "* `<bos> This is the text`\n",
    "* `This is the text <bos>`\n",
    "\n",
    "Author: Rodrigo Alvarez"
   ]
  },
  {
   "cell_type": "code",
   "execution_count": null,
   "metadata": {},
   "outputs": [],
   "source": [
    "from transformers import TrOCRProcessor, VisionEncoderDecoderModel\n",
    "from PIL import Image\n",
    "from clearml import Task\n",
    "import os\n",
    "from tqdm.auto import tqdm\n",
    "import json\n",
    "import torch"
   ]
  },
  {
   "cell_type": "code",
   "execution_count": null,
   "metadata": {},
   "outputs": [],
   "source": [
    "# This is in case to use ClearML (Local with docker) to Log the metrics\n",
    "%env CLEARML_WEB_HOST=http://localhost:8080\n",
    "%env CLEARML_API_HOST=http://localhost:8008\n",
    "%env CLEARML_FILES_HOST=http://localhost:8081\n",
    "%env CLEARML_API_ACCESS_KEY=AEBY191O3R1U4SGBDPLA\n",
    "%env CLEARML_API_SECRET_KEY=OVvAzcKHtSfqP95jjMHgmgAvzDcSKIKRt5wv1hE1PerO5D3uiT\n",
    "%env CLEARML_LOG_MODEL=False"
   ]
  },
  {
   "cell_type": "code",
   "execution_count": null,
   "metadata": {},
   "outputs": [],
   "source": [
    "HF_CACHE = \"~/llm_cache\"\n",
    "TROCR_MODEL = \"microsoft/trocr-large-stage1\"\n",
    "METADATA_FILE = \"<path_to_file_generated_with_xml_workbench>\""
   ]
  },
  {
   "cell_type": "code",
   "execution_count": null,
   "metadata": {},
   "outputs": [],
   "source": [
    "# Prepare the processor and the model\n",
    "processor = TrOCRProcessor.from_pretrained(TROCR_MODEL, cache_dir=HF_CACHE, device_map=\"cuda\")\n",
    "model = VisionEncoderDecoderModel.from_pretrained(TROCR_MODEL, cache_dir=HF_CACHE, device_map=\"cuda\")\n",
    "# In every tutorial I found, they dont modify the config of the processor and model\n",
    "# This configuration sets the special tokens for a valid Training and Inference use\n",
    "# Please make sure to set the decoder_start_token_id to the tokenizer bos_token_id\n",
    "# In some cases, the bos_token_id is the eos_token_id. This results in NO generation, because the end-of-sequence\n",
    "model.generation_config.decoder_start_token_id = processor.tokenizer.bos_token_id\n",
    "model.config.decoder.bos_token_id = processor.tokenizer.bos_token_id\n",
    "model.config.decoder.decoder_start_token_id = processor.tokenizer.bos_token_id\n",
    "model.config.decoder.eos_token_id = processor.tokenizer.eos_token_id\n",
    "model.config.decoder.pad_token_id = processor.tokenizer.pad_token_id\n",
    "model.config.encoder.bos_token_id = processor.tokenizer.bos_token_id\n",
    "model.config.encoder.decoder_start_token_id = processor.tokenizer.bos_token_id\n",
    "model.config.encoder.eos_token_id = processor.tokenizer.eos_token_id\n"
   ]
  },
  {
   "cell_type": "code",
   "execution_count": null,
   "metadata": {},
   "outputs": [],
   "source": [
    "BATCH_SIZE = 8 # Modify in case of CUDA OUT OF MEMORY\n",
    "MODEL_USED = \"Trocr Large Stage 1\" # Name of the model used, this for logs\n",
    "CKP_PATH = \"<path_to_save_checkpoints>\"\n",
    "FINAL_MODEL_PATH = \"<path_to_save_the_final_model>\"\n",
    "MODEL_CODENAME = \"Akivili\" # Model Codename versioning\n",
    "MODEL_VERSION = 5 \n",
    "SAVE_CKP_EVERY = 5\n",
    "EPOCHS = 30 # I use this value because it was only a Proof of concept test. With more Epochs, the accurancy (in theory) should be better\n",
    "LR = 3e-5 # All the tutorials recommend 4e-5 or 5e-5, but, I couldt get a good model, the model stopped learning at the epoch 20 or 25 and the Loss Graph begun to raise instead of go down"
   ]
  },
  {
   "cell_type": "code",
   "execution_count": null,
   "metadata": {},
   "outputs": [],
   "source": [
    "# A function to manually chunk the data\n",
    "def divide_chunks(l, n):\n",
    "    # looping till length l \n",
    "    for i in range(0, len(l), n):  \n",
    "        yield l[i:i + n] "
   ]
  },
  {
   "cell_type": "code",
   "execution_count": null,
   "metadata": {},
   "outputs": [],
   "source": [
    "# Load the metadata file\n",
    "dataset_metadata = json.load(open(METADATA_FILE, \"r\"))"
   ]
  },
  {
   "cell_type": "code",
   "execution_count": null,
   "metadata": {},
   "outputs": [],
   "source": [
    "# Create the chunks\n",
    "chunked_dataset = list(divide_chunks(dataset_metadata, BATCH_SIZE))"
   ]
  },
  {
   "cell_type": "code",
   "execution_count": null,
   "metadata": {},
   "outputs": [],
   "source": [
    "log_info = {\n",
    "    \"type\": \"TROCR Cursive Handwritten\",\n",
    "    \"codename\": MODEL_CODENAME,\n",
    "    \"version\": MODEL_VERSION,\n",
    "    \"epochs\": EPOCHS,\n",
    "    \"batch_size\": BATCH_SIZE,\n",
    "    \"learning_rate\": LR,\n",
    "    \"dataset\": \"cursive_hand_cropped\",\n",
    "    \"model\": MODEL_USED\n",
    "}"
   ]
  },
  {
   "cell_type": "code",
   "execution_count": null,
   "metadata": {},
   "outputs": [],
   "source": [
    "trocr_total_params = sum(p.numel() for p in model.parameters())\n",
    "trocr_train_params = sum(p.numel() for p in model.parameters() if p.requires_grad)\n",
    "print(\"Total params: {}\\nTrainable params: {} M\".format(trocr_total_params / 1e6, trocr_train_params/ 1e6))\n",
    "log_info[\"total_params\"] = trocr_total_params\n",
    "log_info[\"trainable_params\"] = trocr_train_params"
   ]
  },
  {
   "cell_type": "code",
   "execution_count": null,
   "metadata": {},
   "outputs": [],
   "source": [
    "tsk_name = \"TrOCR_{}_V{}\".format(MODEL_CODENAME, str(MODEL_VERSION))\n",
    "task = Task.init(task_name=tsk_name, project_name=\"TrOCR_Lab\")\n",
    "task.set_parameters(log_info)"
   ]
  },
  {
   "cell_type": "code",
   "execution_count": null,
   "metadata": {},
   "outputs": [],
   "source": [
    "# Prepare the Loss Function (CrossEntropy) and the Optimizer (AdamW)\n",
    "# I set the ignore_index to the tokenizer pad token to avoid bad calculations\n",
    "loss_fn = torch.nn.CrossEntropyLoss(ignore_index=processor.tokenizer.pad_token_id)\n",
    "optimizer = torch.optim.AdamW(model.parameters(), lr=LR)"
   ]
  },
  {
   "cell_type": "code",
   "execution_count": null,
   "metadata": {},
   "outputs": [],
   "source": [
    "model_name = \"{}/V_{}\".format(MODEL_CODENAME, MODEL_VERSION)\n",
    "epochs_path = os.path.join(CKP_PATH, model_name)\n",
    "print(\"Saving epochs to {}\".format(epochs_path))\n",
    "os.makedirs(epochs_path, exist_ok=True)"
   ]
  },
  {
   "cell_type": "code",
   "execution_count": null,
   "metadata": {},
   "outputs": [],
   "source": [
    "# Auxiliar function to open the image and load the pixel values\n",
    "def load_and_process_images(images_chunk, troc_proc):\n",
    "    proc_chunk = []\n",
    "    for x in images_chunk:\n",
    "        proc_chunk.append(troc_proc(Image.open(x).convert(\"RGB\"), return_tensors=\"pt\").pixel_values.to(\"cuda\"))\n",
    "    # Use squeeze to eliminate the single array dimension of every item\n",
    "    return torch.stack(proc_chunk, 0).squeeze()"
   ]
  },
  {
   "cell_type": "code",
   "execution_count": null,
   "metadata": {},
   "outputs": [],
   "source": [
    "# The \"training step\" function\n",
    "def train_epoch(trocr_model: VisionEncoderDecoderModel, dataset, ls_fn, optim):\n",
    "    losses = 0 # Accumulation of loss for every epoch\n",
    "    for chunk in dataset:\n",
    "        chunk_images = [ x[\"image\"] for x in chunk ]\n",
    "        labels = [x[\"label\"] for x in chunk]\n",
    "        chunk_images = load_and_process_images(chunk_images, processor) # Process the batch images and get the batch pixels\n",
    "        # Tokenize the labels\n",
    "        labels = processor.tokenizer(labels, add_special_tokens=True, return_tensors=\"pt\", padding=True)[\"input_ids\"].to(\"cuda\")\n",
    "        # Clone the labels to avoid modifications in the original tensor\n",
    "        input_labels = labels.clone()\n",
    "        # Convert the EOS token to a padding token\n",
    "        input_labels = torch.where(input_labels == processor.tokenizer.eos_token_id, processor.tokenizer.pad_token_id, input_labels)\n",
    "        # Because I shifted 1 item to the right, I need to add an additional token to preserve the dimensions\n",
    "        to_concat = torch.empty((1, input_labels.shape[0]), dtype=torch.long, device=\"cuda\").masked_fill(torch.ones(input_labels.shape[0], dtype=torch.bool, device=\"cuda\"), processor.tokenizer.pad_token_id).transpose(1,0)\n",
    "        # This are the shifted labels\n",
    "        shifted_labels = torch.cat((labels[:, 1:], to_concat), dim=1)\n",
    "        # Create the Attention Mask for the decoder\n",
    "        shifted_mask = torch.ones_like(shifted_labels, device=\"cuda\")\n",
    "        # The attention is: 0 for pad token (or tokens to ignore), 1 for the other values\n",
    "        shifted_mask = torch.where(shifted_labels == processor.tokenizer.pad_token_id, 0, 1)\n",
    "        # Call the forward method to get the logits\n",
    "        logits = trocr_model.forward(chunk_images, input_labels, shifted_mask).logits\n",
    "        # Resize or rearrange the logits to match the VOCAB_SIZE dim (and embedding size of the model)\n",
    "        loss = ls_fn(logits.contiguous().view(-1, trocr_model.config.decoder.vocab_size), shifted_labels.contiguous().view(-1))\n",
    "        # Get the loss item\n",
    "        loss_item = loss.item()\n",
    "        # Reset the grad\n",
    "        optim.zero_grad()\n",
    "        # Derivative to update the weights\n",
    "        loss.backward()\n",
    "        optim.step()\n",
    "        losses += loss_item\n",
    "    return losses / len(dataset)\n"
   ]
  },
  {
   "cell_type": "code",
   "execution_count": null,
   "metadata": {},
   "outputs": [],
   "source": [
    "logger = task.get_logger()\n",
    "model.train()\n",
    "for epoch in tqdm(range(EPOCHS)):\n",
    "    train_loss = train_epoch(model, chunked_dataset, loss_fn, optimizer)\n",
    "    if epoch > 0 and epoch % SAVE_CKP_EVERY == 0: # Save every N epochs, but not the 0 epoch\n",
    "        ckp_path = os.path.join(CKP_PATH, MODEL_CODENAME, \"V_{}\".format(MODEL_VERSION), \"Epoch_{}\".format(epoch))\n",
    "        model.save_pretrained(ckp_path, safe_serialization=True)\n",
    "        processor.save_pretrained(ckp_path)\n",
    "    #print(train_loss)\n",
    "    logger.report_scalar(title='Train Loss', series='Loss', value=train_loss, iteration=epoch)"
   ]
  },
  {
   "cell_type": "code",
   "execution_count": null,
   "metadata": {},
   "outputs": [],
   "source": [
    "os.makedirs(FINAL_MODEL_PATH, exist_ok=True)\n",
    "final_ckp_file = os.path.join(FINAL_MODEL_PATH, MODEL_CODENAME, \"V_{}\".format(MODEL_VERSION) )\n",
    "model.save_pretrained(final_ckp_file, safe_serialization=True)\n",
    "processor.save_pretrained(final_ckp_file)"
   ]
  },
  {
   "cell_type": "code",
   "execution_count": null,
   "metadata": {},
   "outputs": [],
   "source": [
    "task.flush()\n",
    "task.mark_completed()\n",
    "task.close()"
   ]
  },
  {
   "cell_type": "markdown",
   "metadata": {},
   "source": [
    "At the end, the metrics were the following\n",
    "\n",
    "<img src=\"./images/trocr_metrics.png\" width=\"800\">"
   ]
  }
 ],
 "metadata": {
  "kernelspec": {
   "display_name": "dev-kernel",
   "language": "python",
   "name": "dev-kernel"
  },
  "language_info": {
   "codemirror_mode": {
    "name": "ipython",
    "version": 3
   },
   "file_extension": ".py",
   "mimetype": "text/x-python",
   "name": "python",
   "nbconvert_exporter": "python",
   "pygments_lexer": "ipython3",
   "version": "3.11.2"
  }
 },
 "nbformat": 4,
 "nbformat_minor": 2
}
