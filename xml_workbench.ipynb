{
 "cells": [
  {
   "cell_type": "markdown",
   "metadata": {},
   "source": [
    "## COCO XML Dataset to JSON lab"
   ]
  },
  {
   "cell_type": "markdown",
   "metadata": {},
   "source": [
    "I used this lab insted of downloading directly from Roboflow because, when I downloaded the JSON COCO dataset, the labels were mismatched and the cords of the boxes were incorrect"
   ]
  },
  {
   "cell_type": "code",
   "execution_count": 6,
   "metadata": {},
   "outputs": [],
   "source": [
    "\n",
    "import os\n",
    "import json\n",
    "import xml.etree.ElementTree as ET"
   ]
  },
  {
   "cell_type": "code",
   "execution_count": 2,
   "metadata": {},
   "outputs": [],
   "source": [
    "dataset_path = \"<path_to_coco_xml_directory>/train\""
   ]
  },
  {
   "cell_type": "code",
   "execution_count": 4,
   "metadata": {},
   "outputs": [],
   "source": [
    "ds_images = [os.path.join(dataset_path, x) for x in os.listdir(dataset_path) if not x.endswith(\".xml\")]  \n",
    "ds_xml = [os.path.join(dataset_path, x) for x in os.listdir(dataset_path) if  x.endswith(\".xml\")]  "
   ]
  },
  {
   "cell_type": "code",
   "execution_count": 5,
   "metadata": {},
   "outputs": [],
   "source": [
    "assert len(ds_images) == len(ds_xml)"
   ]
  },
  {
   "cell_type": "code",
   "execution_count": 17,
   "metadata": {},
   "outputs": [],
   "source": [
    "metadata = []\n",
    "for xml_file in ds_xml:\n",
    "    xml_data = ET.parse(xml_file).getroot()\n",
    "    image_file = xml_data.find(\"filename\").text\n",
    "    image_size = xml_data.find(\"size\")\n",
    "    width, height = image_size.find(\"width\").text, image_size.find(\"height\").text\n",
    "    tags = []\n",
    "    for obj in xml_data.findall(\"object\"):\n",
    "        label = obj.find(\"name\").text\n",
    "        bbox = obj.find(\"bndbox\")\n",
    "        xmin = bbox.find(\"xmin\").text\n",
    "        xmax = bbox.find(\"xmax\").text\n",
    "        ymin = bbox.find(\"ymin\").text\n",
    "        ymax = bbox.find(\"ymax\").text\n",
    "        tags.append({\n",
    "            \"label\": label,\n",
    "            \"xmin\": int(xmin),\n",
    "            \"xmax\": int(xmax),\n",
    "            \"ymin\": int(ymin),\n",
    "            \"ymax\": int(ymax)\n",
    "        })\n",
    "    metadata.append({\n",
    "        \"image\": image_file,\n",
    "        \"width\": width,\n",
    "        \"height\": height,\n",
    "        \"boxes\": tags\n",
    "    })"
   ]
  },
  {
   "cell_type": "code",
   "execution_count": null,
   "metadata": {},
   "outputs": [],
   "source": [
    "# This is the file for creating the TROCR Training dataset, with the cropped images --> images_cropper.ipynb\n",
    "json.dump(metadata, open(\"cursive_hand_metadata.json\", \"w\"), indent=2)"
   ]
  }
 ],
 "metadata": {
  "kernelspec": {
   "display_name": "dev-kernel",
   "language": "python",
   "name": "dev-kernel"
  },
  "language_info": {
   "codemirror_mode": {
    "name": "ipython",
    "version": 3
   },
   "file_extension": ".py",
   "mimetype": "text/x-python",
   "name": "python",
   "nbconvert_exporter": "python",
   "pygments_lexer": "ipython3",
   "version": "3.11.2"
  }
 },
 "nbformat": 4,
 "nbformat_minor": 2
}
