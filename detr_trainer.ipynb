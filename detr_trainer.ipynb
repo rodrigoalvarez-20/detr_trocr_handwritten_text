{
 "cells": [
  {
   "cell_type": "markdown",
   "metadata": {},
   "source": [
    "## DETR Pytorch Ligtning Finetuning with COCO-like dataset"
   ]
  },
  {
   "cell_type": "markdown",
   "metadata": {},
   "source": [
    "This jupyter notebook was used for finetuning Facebook/Detr-resnet-101 base model\n",
    "\n",
    "I used a COCO-like dataset in JSON format built with Roboflow Page with propietary images\n",
    "\n",
    "The labels for the dataset are 2:\n",
    "* words --> As supercategory\n",
    "* word --> As Category/Label\n",
    "\n",
    "The structure of the dataset is the following: \"image_path\", \"class_label_id\" and \"coords\" (wich is a 4 tuple with Xmin, Ymin, Xmax, Ymax of the bounding box)\n",
    "\n",
    "I only used the label \"word\" in the entire dataset with the goal to only detect and generate the bounding boxes for Handwritten and Cursive text\n",
    "\n",
    "This script uses Pytorch with GPU support and Pytorch Lighning to use GPU Acceleration\n",
    "\n",
    "This code is mainly based on this [Roboflow Colab Tutorial](https://colab.research.google.com/github/roboflow-ai/notebooks/blob/main/notebooks/train-huggingface-detr-on-custom-dataset.ipynb)\n",
    "\n",
    "Author: Rodrigo Alvarez"
   ]
  },
  {
   "cell_type": "code",
   "execution_count": null,
   "metadata": {},
   "outputs": [],
   "source": [
    "import os\n",
    "import torchvision\n",
    "from transformers import DetrForObjectDetection, DetrImageProcessor\n",
    "import supervision as sv\n",
    "from torch.utils.data import DataLoader\n",
    "import pytorch_lightning as pl\n",
    "import torch\n"
   ]
  },
  {
   "cell_type": "code",
   "execution_count": null,
   "metadata": {},
   "outputs": [],
   "source": [
    "DATASET_DIR = \"<path_to_coco_dataset>/train\"\n",
    "ANNOTATION_FILE_NAME = \"_annotations.coco.json\"\n",
    "HF_CACHE = \"~/llm_cache\" # I used HF cache dir to avoid the re-downloading of the model\n",
    "MODEL_VERSION = 1 # Experiment version\n",
    "DEVICE = \"cuda\" # CUDA, CPU, or Specific device (CUDA:0, CUDA:0)\n",
    "CHECKPOINT = 'facebook/detr-resnet-101' # If using HF_CACHE, please set the path to the \"snapshot\" dir of the model\n",
    "CONFIDENCE_TRESHOLD = 0.9 # Confidence score for filtering bounding boxes predictions at inference\n",
    "IOU_TRESHOLD = 0.8 # Accurance for evaluating the predicted boxes with the ground truth\n",
    "MODEL_LR = 4e-5 # In some articles, they set the value to 5e-4, but, in my case, it doesn't work, so I try with this and works \"well\"\n",
    "BB_LR = 4e-5 # Same as above\n",
    "MAX_EPOCHS = 100 # Use >= 50 . But it stops learning near the step 70\n",
    "\n",
    "LAB_NAME = \"DETR_LAB\" # For my logger\n",
    "EXPERIMENT_NAME = \"Akivili\" # For logger and versioning\n",
    "EXPERIMENT_VERSION = 2 # Same\n",
    "CKP_PATH = \"<path_to_save_ckps>\""
   ]
  },
  {
   "cell_type": "code",
   "execution_count": null,
   "metadata": {},
   "outputs": [],
   "source": [
    "os.makedirs(CKP_PATH, exist_ok=True)"
   ]
  },
  {
   "cell_type": "markdown",
   "metadata": {},
   "source": [
    "#### Dataset Preparation"
   ]
  },
  {
   "cell_type": "code",
   "execution_count": null,
   "metadata": {},
   "outputs": [],
   "source": [
    "# A custom class for loading Coco datasets in JSON format\n",
    "class CocoDetection(torchvision.datasets.CocoDetection):\n",
    "    def __init__(\n",
    "        self, \n",
    "        image_directory_path: str, \n",
    "        image_processor, \n",
    "        train: bool = True\n",
    "    ):\n",
    "        annotation_file_path = os.path.join(image_directory_path, ANNOTATION_FILE_NAME)\n",
    "        # Its not an error to pass the \"root_dataset_directory\" and \"full_annotation_file_path\", inside the code, they dont concatenate\n",
    "        super(CocoDetection, self).__init__(image_directory_path, annotation_file_path)\n",
    "        self.image_processor = image_processor\n",
    "\n",
    "    def __getitem__(self, idx):\n",
    "        images, annotations = super(CocoDetection, self).__getitem__(idx)        \n",
    "        image_id = self.ids[idx]\n",
    "        annotations = {'image_id': image_id, 'annotations': annotations}\n",
    "        encoding = self.image_processor(images=images, annotations=annotations, return_tensors=\"pt\")\n",
    "        pixel_values = encoding[\"pixel_values\"].squeeze()\n",
    "        target = encoding[\"labels\"][0]\n",
    "        return pixel_values, target"
   ]
  },
  {
   "cell_type": "code",
   "execution_count": null,
   "metadata": {},
   "outputs": [],
   "source": [
    "\n",
    "#First, load the image processor\n",
    "image_processor = DetrImageProcessor.from_pretrained(CHECKPOINT, cache_dir=HF_CACHE)"
   ]
  },
  {
   "cell_type": "code",
   "execution_count": null,
   "metadata": {},
   "outputs": [],
   "source": [
    "# Load the dataset and create an \"id to label\" dictionary\n",
    "TRAIN_DATASET = CocoDetection(image_directory_path=DATASET_DIR, image_processor=image_processor, train=True)\n",
    "categories = TRAIN_DATASET.coco.cats\n",
    "id2label = {k: v['name'] for k,v in categories.items()}"
   ]
  },
  {
   "cell_type": "code",
   "execution_count": null,
   "metadata": {},
   "outputs": [],
   "source": [
    "print(\"Number of training examples:\", len(TRAIN_DATASET))"
   ]
  },
  {
   "cell_type": "markdown",
   "metadata": {},
   "source": [
    "### TRAINING"
   ]
  },
  {
   "cell_type": "code",
   "execution_count": null,
   "metadata": {},
   "outputs": [],
   "source": [
    "\n",
    "# This function allow to process the data from a batch, the data must be pre-tokenized or pre-processed to be padded\n",
    "def collate_fn(batch):\n",
    "    # DETR authors employ various image sizes during training, making it not possible \n",
    "    # to directly batch together images. Hence they pad the images to the biggest \n",
    "    # resolution in a given batch, and create a corresponding binary pixel_mask \n",
    "    # which indicates which pixels are real/which are padding\n",
    "    pixel_values = [item[0] for item in batch]\n",
    "    encoding = image_processor.pad(pixel_values, return_tensors=\"pt\").to(DEVICE)\n",
    "    labels = [item[1] for item in batch]\n",
    "    return {\n",
    "        'pixel_values': encoding['pixel_values'],\n",
    "        'pixel_mask': encoding['pixel_mask'],\n",
    "        'labels': labels\n",
    "    }\n",
    "\n",
    "# Create the dataset loader, you can experiment with this\n",
    "# In case of CUDA OUT OF MEMORY error, reduce the batch size or, move the logic to process the image inside the collate_fn\n",
    "TRAIN_DATALOADER = DataLoader(dataset=TRAIN_DATASET, batch_size=4, collate_fn=collate_fn, shuffle=True)"
   ]
  },
  {
   "cell_type": "code",
   "execution_count": null,
   "metadata": {},
   "outputs": [],
   "source": [
    "# A Python Lightning wrapper for the DETR Model to be able to use the Accelerator and Trainer\n",
    "class Detr(pl.LightningModule):\n",
    "\n",
    "    def __init__(self, model_path, lr, lr_backbone, weight_decay, training_dataset):\n",
    "        super().__init__()\n",
    "        self.model = DetrForObjectDetection.from_pretrained(\n",
    "            pretrained_model_name_or_path=model_path, \n",
    "            num_labels=len(id2label),\n",
    "            ignore_mismatched_sizes=True,\n",
    "            cache_dir=HF_CACHE\n",
    "        )\n",
    "        \n",
    "        self.lr = lr\n",
    "        self.lr_backbone = lr_backbone\n",
    "        self.weight_decay = weight_decay\n",
    "        self.training_dataset = training_dataset\n",
    "\n",
    "    def forward(self, pixel_values, pixel_mask):\n",
    "        return self.model(pixel_values=pixel_values, pixel_mask=pixel_mask)\n",
    "\n",
    "    def common_step(self, batch, batch_idx):\n",
    "        pixel_values = batch[\"pixel_values\"]\n",
    "        pixel_mask = batch[\"pixel_mask\"]\n",
    "        labels = [{k: v.to(self.device) for k, v in t.items()} for t in batch[\"labels\"]]\n",
    "\n",
    "        outputs = self.model(pixel_values=pixel_values, pixel_mask=pixel_mask, labels=labels)\n",
    "\n",
    "        loss = outputs.loss\n",
    "        loss_dict = outputs.loss_dict\n",
    "\n",
    "        return loss, loss_dict\n",
    "\n",
    "    def training_step(self, batch, batch_idx):\n",
    "        loss, loss_dict = self.common_step(batch, batch_idx)     \n",
    "        # logs metrics for each training_step, and the average across the epoch\n",
    "        self.log(\"training_loss\", loss)\n",
    "        for k,v in loss_dict.items():\n",
    "            self.log(\"train_\" + k, v.item())\n",
    "\n",
    "        return loss\n",
    "\n",
    "    def configure_optimizers(self):\n",
    "        param_dicts = [\n",
    "            {\n",
    "                \"params\": [p for n, p in self.named_parameters() if \"backbone\" not in n and p.requires_grad]},\n",
    "            {\n",
    "                \"params\": [p for n, p in self.named_parameters() if \"backbone\" in n and p.requires_grad],\n",
    "                \"lr\": self.lr_backbone,\n",
    "            },\n",
    "        ]\n",
    "        # Feel free to modify the optimizer, I used this because the good performance in other projects and is the frequenly used in transformers models\n",
    "        return torch.optim.AdamW(param_dicts, lr=self.lr, weight_decay=self.weight_decay)\n",
    "\n",
    "    def train_dataloader(self):\n",
    "        return self.training_dataset"
   ]
  },
  {
   "cell_type": "code",
   "execution_count": null,
   "metadata": {},
   "outputs": [],
   "source": [
    "# Create a Pythorch Lightning model\n",
    "model = Detr(CHECKPOINT, lr=MODEL_LR, lr_backbone=BB_LR, weight_decay=1e-4, training_dataset=TRAIN_DATALOADER)"
   ]
  },
  {
   "cell_type": "code",
   "execution_count": null,
   "metadata": {},
   "outputs": [],
   "source": [
    "# Params for the logger\n",
    "hyperparams = {\n",
    "    \"model_type\": \"DETR\",\n",
    "    \"model_name\": \"detr-resnet-101\",\n",
    "    \"codename\": EXPERIMENT_NAME,\n",
    "    \"version\": EXPERIMENT_VERSION,\n",
    "    \"model_learning_rate\": MODEL_LR,\n",
    "    \"backbone_learning_rate\": BB_LR,\n",
    "    \"epochs\": MAX_EPOCHS\n",
    "}"
   ]
  },
  {
   "cell_type": "code",
   "execution_count": null,
   "metadata": {},
   "outputs": [],
   "source": [
    "# To get an idea of the total of params and the trainable params\n",
    "detr_total_params = sum(p.numel() for p in model.parameters())\n",
    "detr_train_params = sum(p.numel() for p in model.parameters() if p.requires_grad)\n",
    "print(\"Total params: {}\\nTrainable params: {} M\".format(detr_total_params / 1e6, detr_train_params/ 1e6))\n",
    "hyperparams[\"total_params\"] = detr_total_params\n",
    "hyperparams[\"trainable_params\"] = detr_train_params\n"
   ]
  },
  {
   "cell_type": "code",
   "execution_count": null,
   "metadata": {},
   "outputs": [],
   "source": [
    "# I used Tensorboard Logger. If you too, please make sure to initiate the TB instance\n",
    "logger = pl.loggers.TensorBoardLogger(save_dir=\"/home/ralvarez22/Documentos/trocr_hand/trocr_llm/tb\", version=MODEL_VERSION, name=LAB_NAME)"
   ]
  },
  {
   "cell_type": "code",
   "execution_count": null,
   "metadata": {},
   "outputs": [],
   "source": [
    "# Add the Hyperparams to the project log\n",
    "logger.log_hyperparams(hyperparams)"
   ]
  },
  {
   "cell_type": "code",
   "execution_count": null,
   "metadata": {},
   "outputs": [],
   "source": [
    "# Create a PL Trainer.\n",
    "# I use 1 device (NVIDIA 4090 24GB). In the first attemp i wanted to use 2 GPUs (4090 & 3060) but the process finishes with error code.\n",
    "# Use the GPU accelerator to speed-up the training and avoid bad performance\n",
    "# accumulate_grad_batches is used to save memory, if you want to experiment, less acc value, more merory used (In theory)\n",
    "trainer = pl.Trainer(devices=1, accelerator=\"gpu\", max_epochs=MAX_EPOCHS, gradient_clip_val=0.1, accumulate_grad_batches=8, log_every_n_steps=10, logger=logger)"
   ]
  },
  {
   "cell_type": "code",
   "execution_count": null,
   "metadata": {},
   "outputs": [],
   "source": [
    "# Run the training Cycle and log the metrics\n",
    "trainer.fit(model)"
   ]
  },
  {
   "cell_type": "markdown",
   "metadata": {},
   "source": [
    "At the end, the metrics were the following\n",
    "\n",
    "![DETR Metrics](./images/detr_metrics.png \"Loss Metrics\")\n"
   ]
  },
  {
   "cell_type": "code",
   "execution_count": null,
   "metadata": {},
   "outputs": [],
   "source": [
    "# Save the final model\n",
    "FINAL_CKP_PATH = \"~/models/detr/{}/V_{}\".format(EXPERIMENT_NAME, EXPERIMENT_VERSION)"
   ]
  },
  {
   "cell_type": "code",
   "execution_count": null,
   "metadata": {},
   "outputs": [],
   "source": [
    "# By default it saves the Safetensors type\n",
    "model.model.save_pretrained(FINAL_CKP_PATH)\n",
    "image_processor.save_pretrained(FINAL_CKP_PATH)"
   ]
  },
  {
   "cell_type": "code",
   "execution_count": null,
   "metadata": {},
   "outputs": [],
   "source": [
    "# Also, you can push the model to HF Hub here, but is recommended to first test it"
   ]
  }
 ],
 "metadata": {
  "kernelspec": {
   "display_name": "dev-kernel",
   "language": "python",
   "name": "dev-kernel"
  },
  "language_info": {
   "codemirror_mode": {
    "name": "ipython",
    "version": 3
   },
   "file_extension": ".py",
   "mimetype": "text/x-python",
   "name": "python",
   "nbconvert_exporter": "python",
   "pygments_lexer": "ipython3",
   "version": "3.11.2"
  }
 },
 "nbformat": 4,
 "nbformat_minor": 2
}
