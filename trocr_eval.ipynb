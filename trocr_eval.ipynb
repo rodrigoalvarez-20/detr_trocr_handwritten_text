{
 "cells": [
  {
   "cell_type": "code",
   "execution_count": 14,
   "metadata": {},
   "outputs": [],
   "source": [
    "from transformers import TrOCRProcessor, VisionEncoderDecoderModel\n",
    "from PIL import Image\n",
    "import json\n",
    "import random\n",
    "import fastwer\n",
    "from tqdm.auto import tqdm"
   ]
  },
  {
   "cell_type": "code",
   "execution_count": 6,
   "metadata": {},
   "outputs": [],
   "source": [
    "CKP_MODEL = \"/home/ralvarez22/Documentos/trocr_hand/trocr_llm/finetuned/Akivili/V_5\"\n",
    "DEVICE = \"cuda\" # Where to load the model\n",
    "DATASET_FILE = \"/home/ralvarez22/Documentos/trocr_hand/trocr_llm/datasets/cursive_hand_cropped/metadata.json\""
   ]
  },
  {
   "cell_type": "code",
   "execution_count": 7,
   "metadata": {},
   "outputs": [
    {
     "name": "stderr",
     "output_type": "stream",
     "text": [
      "2024-07-03 14:11:17.512304: I tensorflow/core/platform/cpu_feature_guard.cc:210] This TensorFlow binary is optimized to use available CPU instructions in performance-critical operations.\n",
      "To enable the following instructions: AVX2 FMA, in other operations, rebuild TensorFlow with the appropriate compiler flags.\n",
      "2024-07-03 14:11:18.600356: W tensorflow/compiler/tf2tensorrt/utils/py_utils.cc:38] TF-TRT Warning: Could not find TensorRT\n"
     ]
    }
   ],
   "source": [
    "processor = TrOCRProcessor.from_pretrained(CKP_MODEL,device_map=DEVICE)\n",
    "model = VisionEncoderDecoderModel.from_pretrained(CKP_MODEL, device_map=DEVICE)\n",
    "# This configuration allows to correctly set the BOS token for inference and the Temperature and Sample strategy for the decoder\n",
    "# This could be setted on the generation_config.json file, generated when saving the model, but, to avoid mismatch or errors, I overwrite this\n",
    "model.generation_config.decoder_start_token_id = processor.tokenizer.bos_token_id\n",
    "model.generation_config.temperature = 0.4\n",
    "model.generation_config.do_sample = True"
   ]
  },
  {
   "cell_type": "code",
   "execution_count": 8,
   "metadata": {},
   "outputs": [],
   "source": [
    "cropped_images_dataset = json.load(open(DATASET_FILE, \"r\"))"
   ]
  },
  {
   "cell_type": "code",
   "execution_count": 9,
   "metadata": {},
   "outputs": [],
   "source": [
    "items_to_eval = int(len(cropped_images_dataset) * 0.9)"
   ]
  },
  {
   "cell_type": "code",
   "execution_count": 11,
   "metadata": {},
   "outputs": [
    {
     "data": {
      "text/plain": [
       "3472"
      ]
     },
     "execution_count": 11,
     "metadata": {},
     "output_type": "execute_result"
    }
   ],
   "source": [
    "items_to_eval"
   ]
  },
  {
   "cell_type": "code",
   "execution_count": 12,
   "metadata": {},
   "outputs": [],
   "source": [
    "test_dataset = random.sample(cropped_images_dataset, items_to_eval)"
   ]
  },
  {
   "cell_type": "code",
   "execution_count": 20,
   "metadata": {},
   "outputs": [
    {
     "data": {
      "application/vnd.jupyter.widget-view+json": {
       "model_id": "d5cd545beff34291841fe6a77a4d985a",
       "version_major": 2,
       "version_minor": 0
      },
      "text/plain": [
       "  0%|          | 0/3472 [00:00<?, ?it/s]"
      ]
     },
     "metadata": {},
     "output_type": "display_data"
    }
   ],
   "source": [
    "cer_value = 0\n",
    "wer_value = 0\n",
    "for test_item in tqdm(test_dataset):\n",
    "    pil_image = Image.open(test_item[\"image\"]).convert(\"RGB\")\n",
    "    proc_image = processor(pil_image, return_tensors=\"pt\").pixel_values.to(DEVICE)\n",
    "    tgt_text = test_item[\"label\"]\n",
    "    data_generated = model.generate(proc_image)\n",
    "    gen_text = processor.tokenizer.decode(data_generated[0].cpu(), skip_special_tokens=True)\n",
    "    #print(\"Original: {} - Recognized: {}\".format(tgt_text, gen_text))\n",
    "    cer_val = fastwer.score_sent(gen_text, tgt_text, char_level=True)\n",
    "    wer_val = fastwer.score_sent(gen_text, tgt_text)\n",
    "    cer_value += cer_val\n",
    "    wer_value += wer_val"
   ]
  },
  {
   "cell_type": "code",
   "execution_count": 23,
   "metadata": {},
   "outputs": [],
   "source": [
    "cer_value /= items_to_eval\n",
    "wer_value /= items_to_eval"
   ]
  },
  {
   "cell_type": "code",
   "execution_count": 24,
   "metadata": {},
   "outputs": [
    {
     "name": "stdout",
     "output_type": "stream",
     "text": [
      "CER Avg value: 1.4539\n",
      "WER Avg value: 1.1593\n"
     ]
    }
   ],
   "source": [
    "print(\"CER Avg value: {:.4f}\".format(cer_value))\n",
    "print(\"WER Avg value: {:.4f}\".format(wer_value))"
   ]
  }
 ],
 "metadata": {
  "kernelspec": {
   "display_name": "dev-kernel",
   "language": "python",
   "name": "dev-kernel"
  },
  "language_info": {
   "codemirror_mode": {
    "name": "ipython",
    "version": 3
   },
   "file_extension": ".py",
   "mimetype": "text/x-python",
   "name": "python",
   "nbconvert_exporter": "python",
   "pygments_lexer": "ipython3",
   "version": "3.11.2"
  }
 },
 "nbformat": 4,
 "nbformat_minor": 2
}
